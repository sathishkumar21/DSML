{
 "cells": [
  {
   "cell_type": "markdown",
   "metadata": {},
   "source": [
    "<img src=\"https://github.com/insaid2018/Term-1/blob/master/Images/INSAID_Full%20Logo.png?raw=true\" width=\"240\" height=\"360\" />\n",
    "\n",
    "# ASSIGNMENT\n",
    "# LOGISTIC REGRESSION"
   ]
  },
  {
   "cell_type": "markdown",
   "metadata": {},
   "source": [
    "\n",
    "##  Bank Marketing\n",
    "\n",
    "\n",
    "**Abstract:** \n",
    "The data is related with __direct marketing campaigns__ (phone calls) of a Portuguese banking institution. The classification goal is to predict if the client will subscribe a __term deposit (variable y)__.\n",
    "\n",
    "**Data Set Information:**\n",
    "The data is related with direct marketing campaigns of a Portuguese banking institution. The marketing campaigns were based on phone calls. Often, more than one contact to the same client was required, in order to access if the __product (bank term deposit)__ would be __('yes')__ or __('no')__ subscribed. \n",
    "\n",
    "###  Source:\n",
    "\n",
    " - Dataset from : http://archive.ics.uci.edu/ml/datasets/Bank+Marketing#\n",
    " "
   ]
  },
  {
   "cell_type": "markdown",
   "metadata": {},
   "source": [
    "### Import the dataset"
   ]
  },
  {
   "cell_type": "code",
   "execution_count": 1,
   "metadata": {},
   "outputs": [
    {
     "data": {
      "text/html": [
       "<div>\n",
       "<style scoped>\n",
       "    .dataframe tbody tr th:only-of-type {\n",
       "        vertical-align: middle;\n",
       "    }\n",
       "\n",
       "    .dataframe tbody tr th {\n",
       "        vertical-align: top;\n",
       "    }\n",
       "\n",
       "    .dataframe thead th {\n",
       "        text-align: right;\n",
       "    }\n",
       "</style>\n",
       "<table border=\"1\" class=\"dataframe\">\n",
       "  <thead>\n",
       "    <tr style=\"text-align: right;\">\n",
       "      <th></th>\n",
       "      <th>age</th>\n",
       "      <th>job</th>\n",
       "      <th>marital</th>\n",
       "      <th>education</th>\n",
       "      <th>default</th>\n",
       "      <th>housing</th>\n",
       "      <th>loan</th>\n",
       "      <th>contact</th>\n",
       "      <th>month</th>\n",
       "      <th>day_of_week</th>\n",
       "      <th>...</th>\n",
       "      <th>campaign</th>\n",
       "      <th>pdays</th>\n",
       "      <th>previous</th>\n",
       "      <th>poutcome</th>\n",
       "      <th>emp.var.rate</th>\n",
       "      <th>cons.price.idx</th>\n",
       "      <th>cons.conf.idx</th>\n",
       "      <th>euribor3m</th>\n",
       "      <th>nr.employed</th>\n",
       "      <th>y</th>\n",
       "    </tr>\n",
       "  </thead>\n",
       "  <tbody>\n",
       "    <tr>\n",
       "      <th>0</th>\n",
       "      <td>46</td>\n",
       "      <td>blue-collar</td>\n",
       "      <td>married</td>\n",
       "      <td>basic.9y</td>\n",
       "      <td>no</td>\n",
       "      <td>no</td>\n",
       "      <td>yes</td>\n",
       "      <td>telephone</td>\n",
       "      <td>may</td>\n",
       "      <td>tue</td>\n",
       "      <td>...</td>\n",
       "      <td>3</td>\n",
       "      <td>999</td>\n",
       "      <td>0</td>\n",
       "      <td>nonexistent</td>\n",
       "      <td>1.1</td>\n",
       "      <td>93.994</td>\n",
       "      <td>-36.4</td>\n",
       "      <td>4.857</td>\n",
       "      <td>5191.0</td>\n",
       "      <td>no</td>\n",
       "    </tr>\n",
       "    <tr>\n",
       "      <th>1</th>\n",
       "      <td>29</td>\n",
       "      <td>admin.</td>\n",
       "      <td>single</td>\n",
       "      <td>university.degree</td>\n",
       "      <td>no</td>\n",
       "      <td>no</td>\n",
       "      <td>no</td>\n",
       "      <td>cellular</td>\n",
       "      <td>may</td>\n",
       "      <td>wed</td>\n",
       "      <td>...</td>\n",
       "      <td>2</td>\n",
       "      <td>999</td>\n",
       "      <td>0</td>\n",
       "      <td>nonexistent</td>\n",
       "      <td>-1.8</td>\n",
       "      <td>92.893</td>\n",
       "      <td>-46.2</td>\n",
       "      <td>1.281</td>\n",
       "      <td>5099.1</td>\n",
       "      <td>no</td>\n",
       "    </tr>\n",
       "    <tr>\n",
       "      <th>2</th>\n",
       "      <td>50</td>\n",
       "      <td>management</td>\n",
       "      <td>married</td>\n",
       "      <td>university.degree</td>\n",
       "      <td>no</td>\n",
       "      <td>yes</td>\n",
       "      <td>yes</td>\n",
       "      <td>cellular</td>\n",
       "      <td>apr</td>\n",
       "      <td>fri</td>\n",
       "      <td>...</td>\n",
       "      <td>1</td>\n",
       "      <td>999</td>\n",
       "      <td>0</td>\n",
       "      <td>nonexistent</td>\n",
       "      <td>-1.8</td>\n",
       "      <td>93.075</td>\n",
       "      <td>-47.1</td>\n",
       "      <td>1.405</td>\n",
       "      <td>5099.1</td>\n",
       "      <td>no</td>\n",
       "    </tr>\n",
       "    <tr>\n",
       "      <th>3</th>\n",
       "      <td>31</td>\n",
       "      <td>admin.</td>\n",
       "      <td>married</td>\n",
       "      <td>high.school</td>\n",
       "      <td>unknown</td>\n",
       "      <td>yes</td>\n",
       "      <td>no</td>\n",
       "      <td>telephone</td>\n",
       "      <td>may</td>\n",
       "      <td>thu</td>\n",
       "      <td>...</td>\n",
       "      <td>2</td>\n",
       "      <td>999</td>\n",
       "      <td>0</td>\n",
       "      <td>nonexistent</td>\n",
       "      <td>1.1</td>\n",
       "      <td>93.994</td>\n",
       "      <td>-36.4</td>\n",
       "      <td>4.860</td>\n",
       "      <td>5191.0</td>\n",
       "      <td>no</td>\n",
       "    </tr>\n",
       "    <tr>\n",
       "      <th>4</th>\n",
       "      <td>32</td>\n",
       "      <td>admin.</td>\n",
       "      <td>single</td>\n",
       "      <td>high.school</td>\n",
       "      <td>no</td>\n",
       "      <td>yes</td>\n",
       "      <td>no</td>\n",
       "      <td>cellular</td>\n",
       "      <td>jun</td>\n",
       "      <td>tue</td>\n",
       "      <td>...</td>\n",
       "      <td>1</td>\n",
       "      <td>999</td>\n",
       "      <td>0</td>\n",
       "      <td>nonexistent</td>\n",
       "      <td>-2.9</td>\n",
       "      <td>92.963</td>\n",
       "      <td>-40.8</td>\n",
       "      <td>1.262</td>\n",
       "      <td>5076.2</td>\n",
       "      <td>yes</td>\n",
       "    </tr>\n",
       "  </tbody>\n",
       "</table>\n",
       "<p>5 rows × 21 columns</p>\n",
       "</div>"
      ],
      "text/plain": [
       "   age          job  marital          education  default housing loan  \\\n",
       "0   46  blue-collar  married           basic.9y       no      no  yes   \n",
       "1   29       admin.   single  university.degree       no      no   no   \n",
       "2   50   management  married  university.degree       no     yes  yes   \n",
       "3   31       admin.  married        high.school  unknown     yes   no   \n",
       "4   32       admin.   single        high.school       no     yes   no   \n",
       "\n",
       "     contact month day_of_week  ...  campaign  pdays  previous     poutcome  \\\n",
       "0  telephone   may         tue  ...         3    999         0  nonexistent   \n",
       "1   cellular   may         wed  ...         2    999         0  nonexistent   \n",
       "2   cellular   apr         fri  ...         1    999         0  nonexistent   \n",
       "3  telephone   may         thu  ...         2    999         0  nonexistent   \n",
       "4   cellular   jun         tue  ...         1    999         0  nonexistent   \n",
       "\n",
       "  emp.var.rate  cons.price.idx  cons.conf.idx  euribor3m  nr.employed    y  \n",
       "0          1.1          93.994          -36.4      4.857       5191.0   no  \n",
       "1         -1.8          92.893          -46.2      1.281       5099.1   no  \n",
       "2         -1.8          93.075          -47.1      1.405       5099.1   no  \n",
       "3          1.1          93.994          -36.4      4.860       5191.0   no  \n",
       "4         -2.9          92.963          -40.8      1.262       5076.2  yes  \n",
       "\n",
       "[5 rows x 21 columns]"
      ]
     },
     "execution_count": 1,
     "metadata": {},
     "output_type": "execute_result"
    }
   ],
   "source": [
    "import pandas as pd\n",
    "bank = pd.read_csv('https://raw.githubusercontent.com/insaid2018/Term-2/master/Data/bank.csv')\n",
    "bank.head() "
   ]
  },
  {
   "cell_type": "markdown",
   "metadata": {},
   "source": [
    "### Check the columns present in the dataset"
   ]
  },
  {
   "cell_type": "code",
   "execution_count": 2,
   "metadata": {},
   "outputs": [
    {
     "data": {
      "text/plain": [
       "Index(['age', 'job', 'marital', 'education', 'default', 'housing', 'loan',\n",
       "       'contact', 'month', 'day_of_week', 'duration', 'campaign', 'pdays',\n",
       "       'previous', 'poutcome', 'emp.var.rate', 'cons.price.idx',\n",
       "       'cons.conf.idx', 'euribor3m', 'nr.employed', 'y'],\n",
       "      dtype='object')"
      ]
     },
     "execution_count": 2,
     "metadata": {},
     "output_type": "execute_result"
    }
   ],
   "source": [
    "bank.columns"
   ]
  },
  {
   "cell_type": "markdown",
   "metadata": {},
   "source": [
    "### Check the shape of Dataset"
   ]
  },
  {
   "cell_type": "code",
   "execution_count": 3,
   "metadata": {},
   "outputs": [
    {
     "data": {
      "text/plain": [
       "(10297, 21)"
      ]
     },
     "execution_count": 3,
     "metadata": {},
     "output_type": "execute_result"
    }
   ],
   "source": [
    "bank.shape "
   ]
  },
  {
   "cell_type": "markdown",
   "metadata": {},
   "source": [
    "### Check the descriptive statistics of the dataset"
   ]
  },
  {
   "cell_type": "code",
   "execution_count": 4,
   "metadata": {},
   "outputs": [
    {
     "data": {
      "text/html": [
       "<div>\n",
       "<style scoped>\n",
       "    .dataframe tbody tr th:only-of-type {\n",
       "        vertical-align: middle;\n",
       "    }\n",
       "\n",
       "    .dataframe tbody tr th {\n",
       "        vertical-align: top;\n",
       "    }\n",
       "\n",
       "    .dataframe thead th {\n",
       "        text-align: right;\n",
       "    }\n",
       "</style>\n",
       "<table border=\"1\" class=\"dataframe\">\n",
       "  <thead>\n",
       "    <tr style=\"text-align: right;\">\n",
       "      <th></th>\n",
       "      <th>age</th>\n",
       "      <th>duration</th>\n",
       "      <th>campaign</th>\n",
       "      <th>pdays</th>\n",
       "      <th>previous</th>\n",
       "      <th>emp.var.rate</th>\n",
       "      <th>cons.price.idx</th>\n",
       "      <th>cons.conf.idx</th>\n",
       "      <th>euribor3m</th>\n",
       "      <th>nr.employed</th>\n",
       "    </tr>\n",
       "  </thead>\n",
       "  <tbody>\n",
       "    <tr>\n",
       "      <th>count</th>\n",
       "      <td>10297.000000</td>\n",
       "      <td>10297.000000</td>\n",
       "      <td>10297.000000</td>\n",
       "      <td>10297.000000</td>\n",
       "      <td>10297.000000</td>\n",
       "      <td>10297.000000</td>\n",
       "      <td>10297.000000</td>\n",
       "      <td>10297.000000</td>\n",
       "      <td>10297.000000</td>\n",
       "      <td>10297.000000</td>\n",
       "    </tr>\n",
       "    <tr>\n",
       "      <th>mean</th>\n",
       "      <td>40.080606</td>\n",
       "      <td>261.388268</td>\n",
       "      <td>2.561134</td>\n",
       "      <td>963.609692</td>\n",
       "      <td>0.171506</td>\n",
       "      <td>0.077256</td>\n",
       "      <td>93.574206</td>\n",
       "      <td>-40.445780</td>\n",
       "      <td>3.621923</td>\n",
       "      <td>5166.850442</td>\n",
       "    </tr>\n",
       "    <tr>\n",
       "      <th>std</th>\n",
       "      <td>10.472190</td>\n",
       "      <td>263.722874</td>\n",
       "      <td>2.827084</td>\n",
       "      <td>184.098592</td>\n",
       "      <td>0.496992</td>\n",
       "      <td>1.576732</td>\n",
       "      <td>0.577502</td>\n",
       "      <td>4.622221</td>\n",
       "      <td>1.734170</td>\n",
       "      <td>72.492914</td>\n",
       "    </tr>\n",
       "    <tr>\n",
       "      <th>min</th>\n",
       "      <td>18.000000</td>\n",
       "      <td>0.000000</td>\n",
       "      <td>1.000000</td>\n",
       "      <td>0.000000</td>\n",
       "      <td>0.000000</td>\n",
       "      <td>-3.400000</td>\n",
       "      <td>92.201000</td>\n",
       "      <td>-50.800000</td>\n",
       "      <td>0.634000</td>\n",
       "      <td>4963.600000</td>\n",
       "    </tr>\n",
       "    <tr>\n",
       "      <th>25%</th>\n",
       "      <td>32.000000</td>\n",
       "      <td>103.000000</td>\n",
       "      <td>1.000000</td>\n",
       "      <td>999.000000</td>\n",
       "      <td>0.000000</td>\n",
       "      <td>-1.800000</td>\n",
       "      <td>93.075000</td>\n",
       "      <td>-42.700000</td>\n",
       "      <td>1.344000</td>\n",
       "      <td>5099.100000</td>\n",
       "    </tr>\n",
       "    <tr>\n",
       "      <th>50%</th>\n",
       "      <td>38.000000</td>\n",
       "      <td>180.000000</td>\n",
       "      <td>2.000000</td>\n",
       "      <td>999.000000</td>\n",
       "      <td>0.000000</td>\n",
       "      <td>1.100000</td>\n",
       "      <td>93.749000</td>\n",
       "      <td>-41.800000</td>\n",
       "      <td>4.857000</td>\n",
       "      <td>5191.000000</td>\n",
       "    </tr>\n",
       "    <tr>\n",
       "      <th>75%</th>\n",
       "      <td>47.000000</td>\n",
       "      <td>327.000000</td>\n",
       "      <td>3.000000</td>\n",
       "      <td>999.000000</td>\n",
       "      <td>0.000000</td>\n",
       "      <td>1.400000</td>\n",
       "      <td>93.994000</td>\n",
       "      <td>-36.400000</td>\n",
       "      <td>4.961000</td>\n",
       "      <td>5228.100000</td>\n",
       "    </tr>\n",
       "    <tr>\n",
       "      <th>max</th>\n",
       "      <td>94.000000</td>\n",
       "      <td>3643.000000</td>\n",
       "      <td>56.000000</td>\n",
       "      <td>999.000000</td>\n",
       "      <td>6.000000</td>\n",
       "      <td>1.400000</td>\n",
       "      <td>94.767000</td>\n",
       "      <td>-26.900000</td>\n",
       "      <td>5.045000</td>\n",
       "      <td>5228.100000</td>\n",
       "    </tr>\n",
       "  </tbody>\n",
       "</table>\n",
       "</div>"
      ],
      "text/plain": [
       "                age      duration      campaign         pdays      previous  \\\n",
       "count  10297.000000  10297.000000  10297.000000  10297.000000  10297.000000   \n",
       "mean      40.080606    261.388268      2.561134    963.609692      0.171506   \n",
       "std       10.472190    263.722874      2.827084    184.098592      0.496992   \n",
       "min       18.000000      0.000000      1.000000      0.000000      0.000000   \n",
       "25%       32.000000    103.000000      1.000000    999.000000      0.000000   \n",
       "50%       38.000000    180.000000      2.000000    999.000000      0.000000   \n",
       "75%       47.000000    327.000000      3.000000    999.000000      0.000000   \n",
       "max       94.000000   3643.000000     56.000000    999.000000      6.000000   \n",
       "\n",
       "       emp.var.rate  cons.price.idx  cons.conf.idx     euribor3m   nr.employed  \n",
       "count  10297.000000    10297.000000   10297.000000  10297.000000  10297.000000  \n",
       "mean       0.077256       93.574206     -40.445780      3.621923   5166.850442  \n",
       "std        1.576732        0.577502       4.622221      1.734170     72.492914  \n",
       "min       -3.400000       92.201000     -50.800000      0.634000   4963.600000  \n",
       "25%       -1.800000       93.075000     -42.700000      1.344000   5099.100000  \n",
       "50%        1.100000       93.749000     -41.800000      4.857000   5191.000000  \n",
       "75%        1.400000       93.994000     -36.400000      4.961000   5228.100000  \n",
       "max        1.400000       94.767000     -26.900000      5.045000   5228.100000  "
      ]
     },
     "execution_count": 4,
     "metadata": {},
     "output_type": "execute_result"
    }
   ],
   "source": [
    "bank.describe() "
   ]
  },
  {
   "cell_type": "markdown",
   "metadata": {},
   "source": [
    "### Check the info of the dataset"
   ]
  },
  {
   "cell_type": "code",
   "execution_count": 5,
   "metadata": {},
   "outputs": [
    {
     "name": "stdout",
     "output_type": "stream",
     "text": [
      "<class 'pandas.core.frame.DataFrame'>\n",
      "RangeIndex: 10297 entries, 0 to 10296\n",
      "Data columns (total 21 columns):\n",
      "age               10297 non-null int64\n",
      "job               10297 non-null object\n",
      "marital           10297 non-null object\n",
      "education         10297 non-null object\n",
      "default           10297 non-null object\n",
      "housing           10297 non-null object\n",
      "loan              10297 non-null object\n",
      "contact           10297 non-null object\n",
      "month             10297 non-null object\n",
      "day_of_week       10297 non-null object\n",
      "duration          10297 non-null int64\n",
      "campaign          10297 non-null int64\n",
      "pdays             10297 non-null int64\n",
      "previous          10297 non-null int64\n",
      "poutcome          10297 non-null object\n",
      "emp.var.rate      10297 non-null float64\n",
      "cons.price.idx    10297 non-null float64\n",
      "cons.conf.idx     10297 non-null float64\n",
      "euribor3m         10297 non-null float64\n",
      "nr.employed       10297 non-null float64\n",
      "y                 10297 non-null object\n",
      "dtypes: float64(5), int64(5), object(11)\n",
      "memory usage: 1.6+ MB\n"
     ]
    }
   ],
   "source": [
    "bank.info() "
   ]
  },
  {
   "cell_type": "markdown",
   "metadata": {},
   "source": [
    "### Q 1. Write a code to understand the below mentioned variables and print their 'unique' attributes.\n",
    "``` ['job', 'marital', 'education', 'housing', 'loan', 'contact', 'month', 'day_of_week', 'campaign','poutcome', 'pdays', 'emp.var.rate', 'cons.price.idx', 'cons.conf.idx', 'euribor3m'] ```"
   ]
  },
  {
   "cell_type": "code",
   "execution_count": 6,
   "metadata": {},
   "outputs": [
    {
     "name": "stdout",
     "output_type": "stream",
     "text": [
      "Job have these Unique values: \n",
      " ['blue-collar' 'admin.' 'management' 'technician' 'retired' 'services'\n",
      " 'entrepreneur' 'self-employed' 'unemployed' 'student' 'housemaid'\n",
      " 'unknown']\n",
      "Marital have these Unique Values: \n",
      " ['married' 'single' 'divorced' 'unknown']\n",
      "Education have these Unique Values:  \n",
      " ['basic.9y' 'university.degree' 'high.school' 'professional.course'\n",
      " 'basic.6y' 'basic.4y' 'unknown' 'illiterate']\n",
      "Housing have these Unique Values:  \n",
      " ['no' 'yes' 'unknown']\n",
      "Loan have these Unique Values: \n",
      " ['yes' 'no' 'unknown']\n",
      "Contact have these Unique Values:  \n",
      " ['telephone' 'cellular']\n",
      "Month has these Unique values: \n",
      " ['may' 'apr' 'jun' 'aug' 'jul' 'oct' 'nov' 'dec' 'sep' 'mar']\n",
      "Day of the Week has these Unique Values:  \n",
      " ['tue' 'wed' 'fri' 'thu' 'mon']\n",
      "Campaign has these unique values: \n",
      " [ 3  2  1  4  5  6 14  7 21  9 12  8 17 10 20 33 29 15 23 11 18 13 19 39\n",
      " 27 16 31 34 26 28 24 32 22 56 25 40]\n",
      "Poutcome has these unique Values: \n",
      " ['nonexistent' 'failure' 'success']\n",
      "Pdays has these unique Values: \n",
      " [999   6   9   2  16   3   7   4  12  13   0   1   5  11  26  10   8  14\n",
      "  15  20  18  17]\n",
      "Employee Var Rate has unique Values: \n",
      " [ 1.1 -1.8 -2.9  1.4 -3.4 -1.7 -0.1 -3.  -1.1]\n",
      "Constanct Price Idex has these unique Values: \n",
      " [93.994 92.893 93.075 92.963 93.444 94.465 93.749 93.918 92.431 94.215\n",
      " 94.027 93.2   92.649 92.713 94.199 92.843 92.201 93.876 92.379 93.369\n",
      " 93.798 94.601 94.055 94.767 92.469]\n",
      "Constant confidence Index has these Unique Values:  \n",
      " [-36.4 -46.2 -47.1 -40.8 -36.1 -41.8 -34.6 -42.7 -26.9 -40.3 -38.3 -42.\n",
      " -30.1 -33.  -37.5 -50.  -31.4 -40.  -29.8 -34.8 -40.4 -49.5 -39.8 -50.8\n",
      " -33.6]\n",
      "Euriborn has these Unique Values: \n",
      " [4.857 1.281 1.405 4.86  1.262 4.963 4.959 1.313 4.967 0.663 1.299 4.966\n",
      " 4.958 1.25  4.96  4.856 4.961 0.728 0.899 4.858 4.964 4.855 4.866 4.864\n",
      " 1.365 1.354 4.962 4.968 1.244 0.904 1.264 4.021 1.453 1.334 4.076 4.957\n",
      " 1.266 0.72  4.191 4.153 0.896 4.859 4.965 1.26  1.291 1.215 4.12  4.865\n",
      " 1.41  0.715 1.445 1.286 0.714 1.344 0.893 1.327 0.879 1.757 1.27  4.97\n",
      " 1.268 0.835 0.645 0.699 0.854 0.849 0.781 0.73  1.423 0.773 0.635 0.643\n",
      " 1.415 1.483 0.88  0.881 4.947 1.799 0.89  0.877 0.797 0.884 0.724 0.84\n",
      " 0.744 0.638 0.695 0.75  0.639 0.821 0.77  0.843 1.372 0.905 0.861 4.918\n",
      " 0.803 0.682 0.737 0.873 0.869 4.955 0.838 1.259 0.819 0.802 0.652 0.829\n",
      " 1.    0.987 0.9   0.732 0.851 0.729 1.05  0.642 0.719 1.556 0.883 0.731\n",
      " 4.921 0.741 0.716 1.028 4.956 0.782 0.876 0.889 1.479 0.697 0.788 0.885\n",
      " 1.52  0.898 0.713 0.692 0.878 0.74  0.761 0.822 0.701 0.739 0.809 1.029\n",
      " 1.041 0.834 1.466 1.726 1.072 0.706 1.048 0.655 0.702 0.825 0.959 0.637\n",
      " 1.392 0.707 0.977 4.912 1.085 1.435 0.722 1.206 1.235 1.498 0.688 1.406\n",
      " 0.846 0.71  0.634 0.754 0.712 1.629 0.668 1.043 0.748 0.813 4.936 0.753\n",
      " 0.733 4.733 1.538 0.636 1.614 0.903 0.65  1.703 1.687 0.886 0.723 0.742\n",
      " 0.87  3.901 1.03  1.811 0.755 0.859 4.406 1.044 0.767 1.252 0.778 0.646\n",
      " 0.708 1.4   0.768 0.653 1.531 1.032 0.762 0.651 0.743 1.025 0.654 1.008\n",
      " 0.965 0.749 0.827 4.7   0.882 0.718 1.602 0.972 1.059 1.663 1.04  1.099\n",
      " 0.685 1.031 0.644 0.683 0.891 0.659 0.735 1.64  1.037 1.046 4.592 0.717\n",
      " 0.677 1.51  5.045 1.016 0.953 0.81  0.727 0.993 4.794 0.982 0.709 3.853\n",
      " 0.672 1.039 1.778 0.649 4.827 0.793 4.663 0.79  1.548 0.64  1.65  0.69\n",
      " 4.76  0.766 0.895 0.914 1.018 0.704 0.985 1.049 4.286 0.908 0.937 0.888\n",
      " 0.684 0.7   4.245 0.771 1.224 4.474]\n"
     ]
    }
   ],
   "source": [
    "def log():\n",
    "    # write your code here to print all the unique values of the variables mentioned in question.\n",
    "    print('Job have these Unique values: \\n',bank.job.unique())\n",
    "    print('Marital have these Unique Values: \\n',bank.marital.unique())\n",
    "    print('Education have these Unique Values:  \\n',bank.education.unique())\n",
    "    print('Housing have these Unique Values:  \\n',bank.housing.unique())\n",
    "    print('Loan have these Unique Values: \\n',bank.loan.unique())\n",
    "    print('Contact have these Unique Values:  \\n',bank.contact.unique())\n",
    "    print('Month has these Unique values: \\n',bank.month.unique())\n",
    "    print('Day of the Week has these Unique Values:  \\n',bank.day_of_week.unique())\n",
    "    print('Campaign has these unique values: \\n',bank.campaign.unique())\n",
    "    print('Poutcome has these unique Values: \\n',bank.poutcome.unique())\n",
    "    print('Pdays has these unique Values: \\n',bank.pdays.unique())\n",
    "    print('Employee Var Rate has unique Values: \\n',bank['emp.var.rate'].unique())\n",
    "    print('Constanct Price Idex has these unique Values: \\n',bank['cons.price.idx'].unique())\n",
    "    print('Constant confidence Index has these Unique Values:  \\n',bank['cons.conf.idx'].unique())\n",
    "    print('Euriborn has these Unique Values: \\n',bank.euribor3m.unique())\n",
    "          \n",
    "    # The code output should be user-friendly.\n",
    "    # For eg- Job have these unique values: ['.........']\n",
    "log()"
   ]
  },
  {
   "cell_type": "markdown",
   "metadata": {},
   "source": [
    "### Q 2. Write a code to check the min and max value of age. Also check if there is any null value or not."
   ]
  },
  {
   "cell_type": "code",
   "execution_count": 7,
   "metadata": {},
   "outputs": [
    {
     "name": "stdout",
     "output_type": "stream",
     "text": [
      "Max Age: 94\n",
      "Min Age: 18\n",
      "Missing Value: 0        False\n",
      "1        False\n",
      "2        False\n",
      "3        False\n",
      "4        False\n",
      "5        False\n",
      "6        False\n",
      "7        False\n",
      "8        False\n",
      "9        False\n",
      "10       False\n",
      "11       False\n",
      "12       False\n",
      "13       False\n",
      "14       False\n",
      "15       False\n",
      "16       False\n",
      "17       False\n",
      "18       False\n",
      "19       False\n",
      "20       False\n",
      "21       False\n",
      "22       False\n",
      "23       False\n",
      "24       False\n",
      "25       False\n",
      "26       False\n",
      "27       False\n",
      "28       False\n",
      "29       False\n",
      "         ...  \n",
      "10267    False\n",
      "10268    False\n",
      "10269    False\n",
      "10270    False\n",
      "10271    False\n",
      "10272    False\n",
      "10273    False\n",
      "10274    False\n",
      "10275    False\n",
      "10276    False\n",
      "10277    False\n",
      "10278    False\n",
      "10279    False\n",
      "10280    False\n",
      "10281    False\n",
      "10282    False\n",
      "10283    False\n",
      "10284    False\n",
      "10285    False\n",
      "10286    False\n",
      "10287    False\n",
      "10288    False\n",
      "10289    False\n",
      "10290    False\n",
      "10291    False\n",
      "10292    False\n",
      "10293    False\n",
      "10294    False\n",
      "10295    False\n",
      "10296    False\n",
      "Name: age, Length: 10297, dtype: bool\n"
     ]
    }
   ],
   "source": [
    "def log():\n",
    "    # print the max age\n",
    "    print('Max Age:',bank['age'].max())       \n",
    "    # print the min age\n",
    "    print('Min Age:',bank['age'].min())\n",
    "    # print the missing values if any\n",
    "    print('Missing Value:',bank['age'].isnull())\n",
    "log()"
   ]
  },
  {
   "cell_type": "markdown",
   "metadata": {},
   "source": [
    "### Count of Yes and No for the term deposit "
   ]
  },
  {
   "cell_type": "code",
   "execution_count": 8,
   "metadata": {},
   "outputs": [
    {
     "data": {
      "text/plain": [
       "no     9137\n",
       "yes    1160\n",
       "Name: y, dtype: int64"
      ]
     },
     "execution_count": 8,
     "metadata": {},
     "output_type": "execute_result"
    }
   ],
   "source": [
    "bank.y.value_counts()"
   ]
  },
  {
   "cell_type": "markdown",
   "metadata": {},
   "source": [
    "### Q 3. Write a user defined function to calculate the Inter quartile range for quantile values outside 25 to 75 range. And do the outlier capping for lower level with min value and for upper level with 'q3=1.5*iqr' value."
   ]
  },
  {
   "cell_type": "code",
   "execution_count": 9,
   "metadata": {},
   "outputs": [],
   "source": [
    "import numpy as np\n",
    "def remove_outlier(df_in, col_name):\n",
    "    # Calculate quantile 1 using quantile(0.25)\n",
    "    q1 = df_in[col_name].quantile(0.25)\n",
    "    # Calculate quantile 3\n",
    "    q3 = df_in[col_name].quantile(0.75)\n",
    "    # Calculate IQR as difference of Quantile 3 and quantile 1\n",
    "    iqr = q3-q1\n",
    "    print(iqr)\n",
    "    # Find the lower bound using the min() function\n",
    "    low= df_in[col_name].min()\n",
    "    # Find the upper bound as quantile3 + 1.5*IQR\n",
    "    up= q3+1.5*iqr\n",
    "    # Print the lower and upper bound of the column\n",
    "    print('Column',col_name,'IQR lower bound and upper bound are', low, 'and', up, 'respectively')\n",
    "    df_out = df_in.loc[(df_in[col_name] > low) & (df_in[col_name] < up)]\n",
    "    return df_out"
   ]
  },
  {
   "cell_type": "markdown",
   "metadata": {},
   "source": [
    "### Q 3.1 Using the above created function , remove the outlier from 'age' variables:"
   ]
  },
  {
   "cell_type": "code",
   "execution_count": 10,
   "metadata": {},
   "outputs": [
    {
     "name": "stdout",
     "output_type": "stream",
     "text": [
      "15.0\n",
      "Column age IQR lower bound and upper bound are 18 and 69.5 respectively\n"
     ]
    }
   ],
   "source": [
    "import numpy as np\n",
    "def log(bank):\n",
    "    # your code to( remove the outlier from age)\n",
    "    return remove_outlier(bank,'age')\n",
    "bank = log(bank)"
   ]
  },
  {
   "cell_type": "markdown",
   "metadata": {},
   "source": [
    "### Q 3.2 Using the above created function , remove the outlier from 'campaign' variables:"
   ]
  },
  {
   "cell_type": "code",
   "execution_count": 11,
   "metadata": {},
   "outputs": [
    {
     "name": "stdout",
     "output_type": "stream",
     "text": [
      "2.0\n",
      "Column campaign IQR lower bound and upper bound are 1 and 6.0 respectively\n"
     ]
    }
   ],
   "source": [
    "def log(bank):\n",
    "    # your code to remove the outlier from campaign\n",
    "    return remove_outlier(bank,'campaign')\n",
    "bank = log(bank) "
   ]
  },
  {
   "cell_type": "markdown",
   "metadata": {},
   "source": [
    "### Q 3.3 Using the above created function , remove the outlier from 'duration' variables:"
   ]
  },
  {
   "cell_type": "code",
   "execution_count": 12,
   "metadata": {},
   "outputs": [
    {
     "name": "stdout",
     "output_type": "stream",
     "text": [
      "230.0\n",
      "Column duration IQR lower bound and upper bound are 0 and 684.0 respectively\n"
     ]
    }
   ],
   "source": [
    "def log(bank):\n",
    "    # your code to remove the outlier from duration\n",
    "    return remove_outlier(bank,'duration')\n",
    "bank = log(bank) "
   ]
  },
  {
   "cell_type": "markdown",
   "metadata": {},
   "source": [
    "### Dividing dataset into two, on the basis of categorical and numerical."
   ]
  },
  {
   "cell_type": "code",
   "execution_count": 13,
   "metadata": {},
   "outputs": [],
   "source": [
    "bank_cat=bank[['job', 'marital','default', 'education', 'loan', 'housing', 'contact', 'month', 'day_of_week', 'poutcome', 'y']]"
   ]
  },
  {
   "cell_type": "code",
   "execution_count": 14,
   "metadata": {},
   "outputs": [],
   "source": [
    "bank_cont = bank.drop(['job', 'marital','default', 'education', 'loan', 'housing', 'contact', 'month', 'day_of_week', 'poutcome', 'y'], axis=1)\n",
    "\n"
   ]
  },
  {
   "cell_type": "markdown",
   "metadata": {},
   "source": [
    "### Q 4. Label encode the below mentioned categorical variable to numerical values.\n",
    "``` ['job', 'marital','default','education', 'loan', 'housing', 'contact', 'month', 'day_of_week', 'poutcome', 'y'] ```"
   ]
  },
  {
   "cell_type": "code",
   "execution_count": 15,
   "metadata": {},
   "outputs": [],
   "source": [
    "from sklearn.preprocessing import LabelEncoder\n",
    "def log(bank_cat):\n",
    "    # your code to return the value applying fit_transorm\n",
    "    return bank_cat.apply(LabelEncoder().fit_transform)\n",
    "bank_cat = log(bank_cat)"
   ]
  },
  {
   "cell_type": "markdown",
   "metadata": {},
   "source": [
    "### Combining the numerical and categorical dataset."
   ]
  },
  {
   "cell_type": "code",
   "execution_count": 16,
   "metadata": {},
   "outputs": [],
   "source": [
    "bank_final= pd.concat([bank_cont, bank_cat], axis = 1)"
   ]
  },
  {
   "cell_type": "markdown",
   "metadata": {},
   "source": [
    "### Q 6. Extract independent column to prepare X "
   ]
  },
  {
   "cell_type": "code",
   "execution_count": 17,
   "metadata": {},
   "outputs": [],
   "source": [
    "X = pd.DataFrame()\n",
    "def log():\n",
    "    # write your code to create a dataframe of dependent variables excluding 'y' variable\n",
    "    X= bank_final.loc[:,bank.columns != 'y']\n",
    "    return X\n",
    "X = log()"
   ]
  },
  {
   "cell_type": "code",
   "execution_count": 18,
   "metadata": {},
   "outputs": [
    {
     "name": "stdout",
     "output_type": "stream",
     "text": [
      "       age  duration  campaign  pdays  previous  emp.var.rate  cons.price.idx  \\\n",
      "0       46       329         3    999         0           1.1          93.994   \n",
      "1       29       132         2    999         0          -1.8          92.893   \n",
      "3       31       199         2    999         0           1.1          93.994   \n",
      "5       33       174         4    999         0           1.4          93.444   \n",
      "8       34        65         2    999         1          -1.8          92.893   \n",
      "9       35       282         5    999         0          -1.8          92.893   \n",
      "11      34       211         2      6         2          -1.8          93.749   \n",
      "14      54       225         2    999         0           1.4          93.918   \n",
      "18      53       340         2    999         0           1.4          94.465   \n",
      "25      52       112         2    999         0           1.4          94.465   \n",
      "26      51       176         3    999         0           1.1          93.994   \n",
      "29      35       207         2    999         0           1.4          93.918   \n",
      "34      33       409         2    999         0          -1.8          92.893   \n",
      "35      52       434         2    999         0          -1.8          92.893   \n",
      "37      32       396         3    999         0           1.4          93.918   \n",
      "44      27        64         2    999         0           1.4          94.465   \n",
      "46      45       126         2    999         1          -0.1          93.200   \n",
      "48      59       133         3    999         0           1.4          93.918   \n",
      "51      35       113         2    999         0           1.4          94.465   \n",
      "55      59       251         5    999         0           1.4          93.918   \n",
      "56      39        90         3    999         0          -0.1          93.200   \n",
      "57      58       275         4    999         0           1.4          93.918   \n",
      "59      39        99         5    999         0           1.4          93.918   \n",
      "61      37       574         5    999         0           1.1          93.994   \n",
      "62      47       374         2     16         1          -1.7          94.027   \n",
      "63      29        92         3    999         0           1.1          93.994   \n",
      "66      52       291         3    999         0           1.4          94.465   \n",
      "68      35       541         2    999         0           1.1          93.994   \n",
      "71      46        76         3    999         0          -0.1          93.200   \n",
      "77      32        86         3    999         0          -0.1          93.200   \n",
      "...    ...       ...       ...    ...       ...           ...             ...   \n",
      "10234   31       406         2    999         0           1.4          94.465   \n",
      "10236   46       279         4    999         0           1.4          93.918   \n",
      "10241   59       133         2    999         0           1.4          94.465   \n",
      "10242   52       402         2    999         0           1.4          93.918   \n",
      "10247   58       483         2    999         0          -1.8          93.075   \n",
      "10249   38       121         4    999         0          -1.8          93.075   \n",
      "10250   39       433         3    999         0           1.1          93.994   \n",
      "10253   41       134         2    999         0           1.4          93.918   \n",
      "10254   34       295         3    999         0           1.4          93.918   \n",
      "10256   45       220         4    999         1          -0.1          93.200   \n",
      "10260   28       128         2    999         0           1.1          93.994   \n",
      "10262   56       162         3    999         0          -0.1          93.200   \n",
      "10264   48       349         2    999         0           1.4          94.465   \n",
      "10265   38       136         2    999         1          -0.1          93.200   \n",
      "10266   56       150         2    999         0           1.4          94.465   \n",
      "10268   54       150         2    999         0           1.4          93.918   \n",
      "10270   52       121         3    999         0           1.4          93.444   \n",
      "10271   41       271         3    999         0           1.4          93.444   \n",
      "10272   31       200         5    999         0           1.4          93.918   \n",
      "10279   32       228         4    999         0          -1.8          92.893   \n",
      "10280   37       230         2    999         0          -1.7          94.215   \n",
      "10281   37       126         2    999         0           1.4          93.918   \n",
      "10283   32        93         5    999         0           1.1          93.994   \n",
      "10284   57       158         3    999         0           1.4          93.918   \n",
      "10287   41       100         2    999         0          -1.8          93.075   \n",
      "10289   36       266         2      2         2          -1.8          93.075   \n",
      "10290   43        87         2    999         0           1.1          93.994   \n",
      "10291   58       246         3    999         0           1.4          94.465   \n",
      "10294   52       442         2    999         1          -0.1          93.200   \n",
      "10295   35       330         3    999         0           1.1          93.994   \n",
      "\n",
      "       cons.conf.idx  euribor3m  nr.employed  job  marital  default  \\\n",
      "0              -36.4      4.857       5191.0    1        1        0   \n",
      "1              -46.2      1.281       5099.1    0        2        0   \n",
      "3              -36.4      4.860       5191.0    0        1        1   \n",
      "5              -36.1      4.963       5228.1    0        2        0   \n",
      "8              -46.2      1.281       5099.1    1        1        1   \n",
      "9              -46.2      1.313       5099.1    0        2        0   \n",
      "11             -34.6      0.663       5008.7    9        1        0   \n",
      "14             -42.7      4.958       5228.1    1        1        1   \n",
      "18             -41.8      4.961       5228.1    1        1        0   \n",
      "25             -41.8      4.866       5228.1    1        1        0   \n",
      "26             -36.4      4.860       5191.0    7        1        0   \n",
      "29             -42.7      4.958       5228.1    9        1        0   \n",
      "34             -46.2      1.281       5099.1    1        2        0   \n",
      "35             -46.2      1.354       5099.1    0        1        0   \n",
      "37             -42.7      4.963       5228.1    1        1        0   \n",
      "44             -41.8      4.866       5228.1    0        2        0   \n",
      "46             -42.0      4.021       5195.8    1        1        0   \n",
      "48             -42.7      4.963       5228.1    5        1        1   \n",
      "51             -41.8      4.864       5228.1    0        1        0   \n",
      "55             -42.7      4.960       5228.1    2        1        1   \n",
      "56             -42.0      4.076       5195.8    4        1        0   \n",
      "57             -42.7      4.961       5228.1    0        1        0   \n",
      "59             -42.7      4.957       5228.1    1        1        0   \n",
      "61             -36.4      4.857       5191.0    1        1        1   \n",
      "62             -38.3      0.904       4991.6    0        1        0   \n",
      "63             -36.4      4.857       5191.0    1        2        0   \n",
      "66             -41.8      4.961       5228.1    2        1        1   \n",
      "68             -36.4      4.857       5191.0    0        2        0   \n",
      "71             -42.0      4.191       5195.8    0        1        1   \n",
      "77             -42.0      4.021       5195.8    9        2        0   \n",
      "...              ...        ...          ...  ...      ...      ...   \n",
      "10234          -41.8      4.864       5228.1    1        1        0   \n",
      "10236          -42.7      4.962       5228.1    8        2        0   \n",
      "10241          -41.8      4.961       5228.1    1        1        0   \n",
      "10242          -42.7      4.958       5228.1    9        1        0   \n",
      "10247          -47.1      1.405       5099.1    9        1        1   \n",
      "10249          -47.1      1.405       5099.1    0        1        1   \n",
      "10250          -36.4      4.857       5191.0    0        1        0   \n",
      "10253          -42.7      4.963       5228.1    6        1        0   \n",
      "10254          -42.7      4.962       5228.1    0        1        0   \n",
      "10256          -42.0      4.191       5195.8    1        0        1   \n",
      "10260          -36.4      4.859       5191.0    1        1        0   \n",
      "10262          -42.0      4.076       5195.8    9        1        0   \n",
      "10264          -41.8      4.961       5228.1    1        1        1   \n",
      "10265          -42.0      4.191       5195.8    4        0        0   \n",
      "10266          -41.8      4.866       5228.1    9        1        1   \n",
      "10268          -42.7      4.968       5228.1    1        1        0   \n",
      "10270          -36.1      4.963       5228.1   10        1        0   \n",
      "10271          -36.1      4.965       5228.1   10        0        0   \n",
      "10272          -42.7      4.963       5228.1    9        2        0   \n",
      "10279          -46.2      1.327       5099.1    1        1        0   \n",
      "10280          -40.3      0.810       4991.6    0        1        0   \n",
      "10281          -42.7      4.963       5228.1    7        1        0   \n",
      "10283          -36.4      4.855       5191.0    9        1        0   \n",
      "10284          -42.7      4.963       5228.1    0        2        0   \n",
      "10287          -47.1      1.405       5099.1    1        1        1   \n",
      "10289          -47.1      1.365       5099.1    9        1        0   \n",
      "10290          -36.4      4.857       5191.0   10        1        1   \n",
      "10291          -41.8      4.961       5228.1    9        1        0   \n",
      "10294          -42.0      4.120       5195.8    1        1        1   \n",
      "10295          -36.4      4.855       5191.0    9        1        0   \n",
      "\n",
      "       education  loan  housing  contact  month  day_of_week  poutcome  \n",
      "0              2     2        0        1      6            3         1  \n",
      "1              6     0        0        0      6            4         1  \n",
      "3              3     0        2        1      6            2         1  \n",
      "5              6     2        2        0      1            1         1  \n",
      "8              5     0        0        0      6            4         0  \n",
      "9              3     0        0        0      6            0         1  \n",
      "11             5     0        2        0      0            0         2  \n",
      "14             2     0        0        0      3            2         1  \n",
      "18             0     2        0        1      4            1         1  \n",
      "25             2     0        2        1      4            2         1  \n",
      "26             1     0        2        1      6            2         1  \n",
      "29             5     2        0        0      3            2         1  \n",
      "34             0     2        2        0      6            4         1  \n",
      "35             6     2        0        0      6            1         1  \n",
      "37             2     2        2        0      3            0         1  \n",
      "44             6     0        0        1      4            2         1  \n",
      "46             2     0        0        0      7            0         0  \n",
      "48             7     0        0        0      3            4         1  \n",
      "51             3     0        0        1      4            4         1  \n",
      "55             6     0        0        0      3            1         1  \n",
      "56             6     2        2        0      7            2         1  \n",
      "57             6     0        2        0      3            3         1  \n",
      "59             2     2        2        1      3            0         1  \n",
      "61             1     2        0        1      6            0         1  \n",
      "62             3     0        0        0      1            2         2  \n",
      "63             7     0        0        1      6            0         1  \n",
      "66             2     0        0        1      4            1         1  \n",
      "68             3     0        2        1      6            0         1  \n",
      "71             3     0        0        0      7            1         1  \n",
      "77             5     0        2        0      7            0         1  \n",
      "...          ...   ...      ...      ...    ...          ...       ...  \n",
      "10234          1     0        2        1      4            4         1  \n",
      "10236          7     0        2        1      3            0         1  \n",
      "10241          1     0        2        1      4            3         1  \n",
      "10242          5     0        2        0      3            2         1  \n",
      "10247          5     0        2        0      0            1         1  \n",
      "10249          3     0        0        1      0            1         1  \n",
      "10250          3     0        2        1      6            0         1  \n",
      "10253          2     0        0        0      3            0         1  \n",
      "10254          3     0        2        0      3            1         1  \n",
      "10256          2     0        0        0      7            1         0  \n",
      "10260          2     0        2        1      6            0         1  \n",
      "10262          6     0        0        0      7            2         1  \n",
      "10264          0     0        0        1      4            1         1  \n",
      "10265          6     0        0        0      7            1         0  \n",
      "10266          5     0        2        1      4            2         1  \n",
      "10268          2     0        2        0      3            2         1  \n",
      "10270          0     0        0        0      1            3         1  \n",
      "10271          5     1        1        0      1            3         1  \n",
      "10272          5     0        0        0      3            2         1  \n",
      "10279          2     0        0        0      6            2         1  \n",
      "10280          3     0        2        0      3            2         1  \n",
      "10281          2     0        0        0      3            0         1  \n",
      "10283          6     0        2        1      6            0         1  \n",
      "10284          2     0        2        0      3            4         1  \n",
      "10287          0     0        0        0      0            0         1  \n",
      "10289          5     2        2        0      0            2         2  \n",
      "10290          6     1        1        1      6            3         1  \n",
      "10291          3     0        0        1      4            2         1  \n",
      "10294          5     0        2        0      7            4         0  \n",
      "10295          6     0        2        1      6            2         1  \n",
      "\n",
      "[4621 rows x 20 columns]\n"
     ]
    }
   ],
   "source": [
    "print(X)"
   ]
  },
  {
   "cell_type": "markdown",
   "metadata": {},
   "source": [
    "### Q 7. Extract dependent variable into a dataframe 'y' for model predcition"
   ]
  },
  {
   "cell_type": "code",
   "execution_count": 19,
   "metadata": {},
   "outputs": [],
   "source": [
    "y = pd.DataFrame()\n",
    "def log():\n",
    "    # write your code to create a dataframe which consists only of dependepent variable\n",
    "    y= bank_final.loc[:,bank.columns == 'y']\n",
    "    return y\n",
    "y = log()"
   ]
  },
  {
   "cell_type": "code",
   "execution_count": 20,
   "metadata": {},
   "outputs": [
    {
     "name": "stdout",
     "output_type": "stream",
     "text": [
      "       y\n",
      "0      0\n",
      "1      0\n",
      "3      0\n",
      "5      0\n",
      "8      0\n",
      "9      0\n",
      "11     0\n",
      "14     0\n",
      "18     0\n",
      "25     0\n",
      "26     0\n",
      "29     0\n",
      "34     0\n",
      "35     0\n",
      "37     0\n",
      "44     0\n",
      "46     0\n",
      "48     0\n",
      "51     0\n",
      "55     0\n",
      "56     0\n",
      "57     0\n",
      "59     0\n",
      "61     0\n",
      "62     1\n",
      "63     0\n",
      "66     0\n",
      "68     0\n",
      "71     0\n",
      "77     0\n",
      "...   ..\n",
      "10234  0\n",
      "10236  1\n",
      "10241  0\n",
      "10242  0\n",
      "10247  0\n",
      "10249  0\n",
      "10250  0\n",
      "10253  0\n",
      "10254  0\n",
      "10256  0\n",
      "10260  0\n",
      "10262  0\n",
      "10264  0\n",
      "10265  0\n",
      "10266  0\n",
      "10268  0\n",
      "10270  0\n",
      "10271  0\n",
      "10272  0\n",
      "10279  0\n",
      "10280  0\n",
      "10281  0\n",
      "10283  0\n",
      "10284  0\n",
      "10287  0\n",
      "10289  1\n",
      "10290  0\n",
      "10291  0\n",
      "10294  0\n",
      "10295  0\n",
      "\n",
      "[4621 rows x 1 columns]\n"
     ]
    }
   ],
   "source": [
    "print(y)"
   ]
  },
  {
   "cell_type": "markdown",
   "metadata": {},
   "source": [
    "### Q 8. Splitting X and y intro train and test dataset"
   ]
  },
  {
   "cell_type": "code",
   "execution_count": 21,
   "metadata": {},
   "outputs": [],
   "source": [
    "from sklearn.model_selection import train_test_split\n",
    "def log():\n",
    "    return train_test_split(X,y,test_size=0.25,random_state=0)# train test split using train_test_split of 75:25 and random state=1\n",
    "X_train, X_test, y_train, y_test = log()"
   ]
  },
  {
   "cell_type": "markdown",
   "metadata": {},
   "source": [
    "### Check the shape of X an y of train dataset."
   ]
  },
  {
   "cell_type": "code",
   "execution_count": 22,
   "metadata": {},
   "outputs": [
    {
     "name": "stdout",
     "output_type": "stream",
     "text": [
      "(3465, 20)\n",
      "(3465, 1)\n"
     ]
    }
   ],
   "source": [
    "def log():\n",
    "    print(X_train.shape)\n",
    "    print(y_train.shape)\n",
    "log()"
   ]
  },
  {
   "cell_type": "markdown",
   "metadata": {},
   "source": [
    "### Check the shape of X and y of test dataset."
   ]
  },
  {
   "cell_type": "code",
   "execution_count": 23,
   "metadata": {},
   "outputs": [
    {
     "name": "stdout",
     "output_type": "stream",
     "text": [
      "(1156, 20)\n",
      "(1156, 1)\n"
     ]
    }
   ],
   "source": [
    "def log():\n",
    "    print(X_test.shape)\n",
    "    print(y_test.shape)\n",
    "log()"
   ]
  },
  {
   "cell_type": "markdown",
   "metadata": {},
   "source": [
    "### Q 9. Instantitate Logistic Regression model using scikit-learn"
   ]
  },
  {
   "cell_type": "code",
   "execution_count": 24,
   "metadata": {},
   "outputs": [],
   "source": [
    "from sklearn.linear_model import LogisticRegression\n",
    "def log():\n",
    "    # initiate the logistic regression model to new variable logreg\n",
    "    logreg= LogisticRegression()\n",
    "    return logreg\n",
    "logreg = log()"
   ]
  },
  {
   "cell_type": "markdown",
   "metadata": {},
   "source": [
    "### Q 10. Fit the logistic model on X_train and y_train"
   ]
  },
  {
   "cell_type": "code",
   "execution_count": 25,
   "metadata": {},
   "outputs": [
    {
     "name": "stderr",
     "output_type": "stream",
     "text": [
      "D:\\Sathish\\Anaconda\\lib\\site-packages\\sklearn\\linear_model\\logistic.py:433: FutureWarning: Default solver will be changed to 'lbfgs' in 0.22. Specify a solver to silence this warning.\n",
      "  FutureWarning)\n",
      "D:\\Sathish\\Anaconda\\lib\\site-packages\\sklearn\\utils\\validation.py:761: DataConversionWarning: A column-vector y was passed when a 1d array was expected. Please change the shape of y to (n_samples, ), for example using ravel().\n",
      "  y = column_or_1d(y, warn=True)\n"
     ]
    }
   ],
   "source": [
    "def log():\n",
    "    # fit the X_train and y_train\n",
    "    logreg.fit(X_train,y_train)\n",
    "    # We don't expect any return from your side.\n",
    "log()    "
   ]
  },
  {
   "cell_type": "markdown",
   "metadata": {},
   "source": [
    "### Q 11. Using the model for prediction"
   ]
  },
  {
   "cell_type": "code",
   "execution_count": 26,
   "metadata": {},
   "outputs": [],
   "source": [
    "y_pred_train = pd.DataFrame()\n",
    "def log():\n",
    "    # create the model prediction on X_train data using the above created dataframe\n",
    "    y_pred_train = logreg.predict(X_train)\n",
    "    return y_pred_train\n",
    "y_pred_train = log()"
   ]
  },
  {
   "cell_type": "code",
   "execution_count": 27,
   "metadata": {},
   "outputs": [],
   "source": [
    "y_pred_test = pd.DataFrame()\n",
    "def log():\n",
    "    # create the model prediction on X_test data using the above created dataframe\n",
    "    y_pred_test = logreg.predict(X_test)\n",
    "    return y_pred_test\n",
    "y_pred_test = log()"
   ]
  },
  {
   "cell_type": "markdown",
   "metadata": {},
   "source": [
    "### Q 12. Model evaluation using accuracy classification score"
   ]
  },
  {
   "cell_type": "code",
   "execution_count": 28,
   "metadata": {},
   "outputs": [
    {
     "name": "stdout",
     "output_type": "stream",
     "text": [
      "Model Accuracy 0.9403114186851211\n"
     ]
    }
   ],
   "source": [
    "from sklearn.metrics import accuracy_score\n",
    "def log():\n",
    "    #Calculate and print the accuracy score\n",
    "    print('Model Accuracy',accuracy_score(y_test,y_pred_test))\n",
    "    \n",
    "log()"
   ]
  },
  {
   "cell_type": "markdown",
   "metadata": {},
   "source": [
    "### Q 13. Model evaluation using Confusion matrix"
   ]
  },
  {
   "cell_type": "code",
   "execution_count": 31,
   "metadata": {},
   "outputs": [
    {
     "name": "stdout",
     "output_type": "stream",
     "text": [
      "                   Predicted No_Deposit  Predicted Deposit\n",
      "Actual No_Deposit                  1052                 19\n",
      "Actual Deposit                       50                 35\n"
     ]
    }
   ],
   "source": [
    "from sklearn.metrics import confusion_matrix\n",
    "confusion_matrix = pd.DataFrame(confusion_matrix(y_test, y_pred_test))\n",
    "def log():\n",
    "    # provide confusion matrix index name as['Actual No_Deposit','Actual Deposit']\n",
    "    confusion_matrix.index=['Actual No_Deposit','Actual Deposit']\n",
    "    # provide confusion matrix index name as['Predicted No_Deposit','Predicted Deposit']\n",
    "    confusion_matrix.columns=['Predicted No_Deposit','Predicted Deposit']\n",
    "    print(confusion_matrix)\n",
    "log()"
   ]
  },
  {
   "cell_type": "markdown",
   "metadata": {},
   "source": [
    "### Q 14. Accuracy prediction setting the threshold = 0.75"
   ]
  },
  {
   "cell_type": "code",
   "execution_count": 32,
   "metadata": {},
   "outputs": [
    {
     "name": "stdout",
     "output_type": "stream",
     "text": [
      "Accuracy score for test data is: 0.9342560553633218\n"
     ]
    }
   ],
   "source": [
    "import numpy as np\n",
    "def log():\n",
    "    # Calculate preds1 keeping the probabilty value as 0.75\n",
    "    preds1 = np.where(logreg.predict_proba(X_test)[:,1]> 0.75,1,0)\n",
    "    # calculate and print the accuracy using the above mentioned threshold probability\n",
    "    print('Accuracy score for test data is:', accuracy_score(y_test,preds1))\n",
    "    \n",
    "log()"
   ]
  },
  {
   "cell_type": "markdown",
   "metadata": {},
   "source": [
    "### Q 15. Accuracy prediction setting the threshold = 0.25"
   ]
  },
  {
   "cell_type": "code",
   "execution_count": 34,
   "metadata": {},
   "outputs": [
    {
     "name": "stdout",
     "output_type": "stream",
     "text": [
      "Accuracy score for test data is: 0.9186851211072664\n"
     ]
    }
   ],
   "source": [
    "def log():\n",
    "    # Calculate preds2 keeping the probabilty value as 0.25\n",
    "    preds1 = np.where(logreg.predict_proba(X_test)[:,1]> 0.25,1,0)\n",
    "    # calculate and print the accuracy using the above mentioned threshold probability\n",
    "    print('Accuracy score for test data is:', accuracy_score(y_test,preds1))\n",
    "    \n",
    "log()"
   ]
  },
  {
   "cell_type": "code",
   "execution_count": null,
   "metadata": {},
   "outputs": [],
   "source": []
  }
 ],
 "metadata": {
  "kernelspec": {
   "display_name": "Python 3",
   "language": "python",
   "name": "python3"
  },
  "language_info": {
   "codemirror_mode": {
    "name": "ipython",
    "version": 3
   },
   "file_extension": ".py",
   "mimetype": "text/x-python",
   "name": "python",
   "nbconvert_exporter": "python",
   "pygments_lexer": "ipython3",
   "version": "3.7.3"
  }
 },
 "nbformat": 4,
 "nbformat_minor": 2
}
